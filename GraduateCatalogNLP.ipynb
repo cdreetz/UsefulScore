{
 "cells": [
  {
   "cell_type": "code",
   "execution_count": 2,
   "id": "17bc4d13",
   "metadata": {},
   "outputs": [],
   "source": [
    "import requests\n",
    "from bs4 import BeautifulSoup"
   ]
  },
  {
   "cell_type": "code",
   "execution_count": 3,
   "id": "9a251fb3",
   "metadata": {},
   "outputs": [],
   "source": [
    "url = \"https://catalog.utsa.edu/graduate/business/managementsciencestatistics/#courseinventory\"\n",
    "html = requests.get(url).content\n",
    "soup = BeautifulSoup(html, 'html.parser')\n",
    "nonBreakSpace = u'\\xa0'"
   ]
  },
  {
   "cell_type": "code",
   "execution_count": 4,
   "id": "466ea23d",
   "metadata": {},
   "outputs": [],
   "source": [
    "# pip install -U spacy\n",
    "# python -m spacy download en_core_web_sm\n",
    "import spacy\n",
    "\n",
    "# Load English tokenizer, tagger, parser and NER\n",
    "nlp = spacy.load(\"en_core_web_sm\")"
   ]
  },
  {
   "cell_type": "code",
   "execution_count": 5,
   "id": "9466071c",
   "metadata": {},
   "outputs": [],
   "source": [
    "# Create an empty list to store the course names and descriptions\n",
    "course_list = []\n",
    "\n",
    "# Find all course blocks on the page\n",
    "for course in soup.find_all('div', {'class': 'courseblock'}):\n",
    "    \n",
    "     # Extract the course name and description and remove whitespace\n",
    "    course_name = course.find('p', {'class': 'courseblocktitle'}).get_text().strip()\n",
    "    course_desc = course.find('p', {'class': 'courseblockdesc'}).get_text().strip()\n",
    "    \n",
    "    # Process the course name and description with spaCy's NLP pipeline\n",
    "    course_name_nlp = nlp(course_name)\n",
    "    course_desc_nlp = nlp(course_desc)\n",
    "    \n",
    "    # Add the course name and description to the list as a tuple of spaCy Doc objects\n",
    "    course_list.append((course_name_nlp, course_desc_nlp))\n",
    "    \n",
    "    # Select the first course in the course_list and print its text, part-of-speech tag, and dependency label\n",
    "    # for token in course_list[0][1]:\n",
    "        # print(token.text, token.pos_, token.dep_)"
   ]
  },
  {
   "cell_type": "code",
   "execution_count": 22,
   "id": "29b67293",
   "metadata": {},
   "outputs": [
    {
     "name": "stdout",
     "output_type": "stream",
     "text": [
      "65 courses in the Department of Management Science and Statistics Graduate Catalog\n",
      "20 being MS courses\n",
      "45 being STA courses\n",
      "Only 3 courses mention Python in the description, with those courses being:\n",
      "STA 6233.  R Programming for Data Science.  (3-0) 3 Credit Hours.\n",
      "STA 6923.  Introduction to Statistical Learning.  (3-0) 3 Credit Hours.\n",
      "STA 6933.  Advanced Topics in Statistical Learning.  (3-0) 3 Credit Hours.\n"
     ]
    }
   ],
   "source": [
    "print(len(course_list), \"courses in the Department of Management Science and Statistics Graduate Catalog.\" )\n",
    "\n",
    "ms_count = 0\n",
    "sta_count = 0\n",
    "\n",
    "for name, desc in course_list:\n",
    "    if name.text.startswith(\"MS\"):\n",
    "        ms_count += 1\n",
    "    elif name.text.startswith(\"STA\"):\n",
    "        sta_count += 1\n",
    "\n",
    "print(ms_count, \"being MS courses\")\n",
    "print(sta_count, \"being STA courses\")\n",
    "\n",
    "python_count = 0\n",
    "\n",
    "for name, desc in course_list:\n",
    "    if \"Python\" in [token.text for token in desc]:\n",
    "        python_count += 1\n",
    "\n",
    "print(\"Only\", python_count, \"courses mention Python in the description, with those courses being:\")\n",
    "\n",
    "python_count = 0\n",
    "\n",
    "for name, desc in course_list:\n",
    "    if \"Python\" in [token.text for token in desc]:\n",
    "        print(name.text)\n",
    "        python_count += 1\n",
    "\n",
    "        # Stop looping after we've found three courses\n",
    "        if python_count == 3:\n",
    "            break"
   ]
  },
  {
   "cell_type": "code",
   "execution_count": 24,
   "id": "e8681061",
   "metadata": {},
   "outputs": [
    {
     "name": "stdout",
     "output_type": "stream",
     "text": [
      "Top three phrases for courses starting with MS:\n",
      "Differential Tuition 20\n",
      "Prerequisite 6\n",
      "services 6\n"
     ]
    }
   ],
   "source": [
    "from collections import Counter\n",
    "\n",
    "# Count phrases for courses starting with \"MS\"\n",
    "ms_phrases = Counter()\n",
    "for name, desc in course_list:\n",
    "    if name.text.startswith(\"MS\"):\n",
    "        for chunk in desc.noun_chunks:\n",
    "            ms_phrases[chunk.text] += 1\n",
    "\n",
    "# Print the three most common phrases\n",
    "print(\"Top three phrases for courses starting with MS:\")\n",
    "for phrase, count in ms_phrases.most_common(3):\n",
    "    print(phrase, count)\n"
   ]
  },
  {
   "cell_type": "code",
   "execution_count": 6,
   "id": "4109d36b",
   "metadata": {},
   "outputs": [
    {
     "name": "stdout",
     "output_type": "stream",
     "text": [
      "Number of courses that mention data mining: 2\n"
     ]
    }
   ],
   "source": [
    "# Count courses that mention \"data mining\"\n",
    "data_mining_count = 0\n",
    "for name, desc in course_list:\n",
    "    if \"data mining\" in desc.text.lower():\n",
    "        data_mining_count += 1\n",
    "\n",
    "# Print the count\n",
    "print(\"Number of courses that mention data mining:\", data_mining_count)"
   ]
  },
  {
   "cell_type": "code",
   "execution_count": null,
   "id": "41c15002",
   "metadata": {},
   "outputs": [],
   "source": []
  }
 ],
 "metadata": {
  "kernelspec": {
   "display_name": "Python 3 (ipykernel)",
   "language": "python",
   "name": "python3"
  },
  "language_info": {
   "codemirror_mode": {
    "name": "ipython",
    "version": 3
   },
   "file_extension": ".py",
   "mimetype": "text/x-python",
   "name": "python",
   "nbconvert_exporter": "python",
   "pygments_lexer": "ipython3",
   "version": "3.10.4"
  }
 },
 "nbformat": 4,
 "nbformat_minor": 5
}
